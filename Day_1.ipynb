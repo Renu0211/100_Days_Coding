{
 "cells": [
  {
   "cell_type": "code",
   "execution_count": 1,
   "metadata": {},
   "outputs": [
    {
     "name": "stdout",
     "output_type": "stream",
     "text": [
      "Hello !! Welcome to my 100 days coding...\n"
     ]
    }
   ],
   "source": [
    "print(\"Hello !! Welcome to my 100 days coding...\")"
   ]
  },
  {
   "cell_type": "markdown",
   "metadata": {},
   "source": [
    "# Day 1"
   ]
  },
  {
   "cell_type": "markdown",
   "metadata": {},
   "source": [
    "### Arithmetic Operations"
   ]
  },
  {
   "cell_type": "code",
   "execution_count": 2,
   "metadata": {},
   "outputs": [
    {
     "name": "stdout",
     "output_type": "stream",
     "text": [
      "Enter value 1 :12\n",
      "Enter value 2 :15\n",
      "..........\n",
      "Addition is :  27\n",
      "**********\n",
      "Substraction is :  -3\n",
      "**********\n",
      "Multiplication is :  180\n",
      "**********\n",
      "Division is :  0.8\n",
      "**********\n"
     ]
    }
   ],
   "source": [
    "v1 = int(input(\"Enter value 1 :\"))\n",
    "v2 = int(input(\"Enter value 2 :\"))\n",
    "print(\"..........\")\n",
    "print(\"Addition is : \",v1+v2)\n",
    "print(\"**********\")\n",
    "print(\"Substraction is : \",v1-v2)\n",
    "print(\"**********\")\n",
    "print(\"Multiplication is : \",v1*v2)\n",
    "print(\"**********\")\n",
    "print(\"Division is : \",v1/v2)\n",
    "print(\"**********\")"
   ]
  },
  {
   "cell_type": "code",
   "execution_count": 3,
   "metadata": {},
   "outputs": [
    {
     "name": "stdout",
     "output_type": "stream",
     "text": [
      "No. of loops =2\n",
      "Value 1 :45.60\n",
      "Value 2 :21.57\n",
      "Addition is = 67.17\n",
      "......\n",
      "Substraction is = 24.03\n",
      "......\n",
      "Multiplication is = 983.5920000000001\n",
      "......\n",
      "Divion is = 2.114047287899861\n",
      "Value 1 :100\n",
      "Value 2 :578\n",
      "Addition is = 678.0\n",
      "......\n",
      "Substraction is = -478.0\n",
      "......\n",
      "Multiplication is = 57800.0\n",
      "......\n",
      "Divion is = 0.17301038062283736\n"
     ]
    }
   ],
   "source": [
    "n = int(input(\"No. of loops =\"))\n",
    "for x in range(n):\n",
    "    v1 = float(input(\"Value 1 :\"))\n",
    "    v2 = float(input(\"Value 2 :\"))\n",
    "    print(\"Addition is =\",v1+v2)\n",
    "    print(\"......\")\n",
    "    print(\"Substraction is =\",v1-v2)\n",
    "    print(\"......\")\n",
    "    print(\"Multiplication is =\",v1*v2)\n",
    "    print(\"......\")\n",
    "    print(\"Divion is =\",v1/v2)"
   ]
  },
  {
   "cell_type": "markdown",
   "metadata": {},
   "source": [
    "### Formulas"
   ]
  },
  {
   "cell_type": "code",
   "execution_count": 4,
   "metadata": {},
   "outputs": [
    {
     "name": "stdout",
     "output_type": "stream",
     "text": [
      "...Square...\n",
      "Side value :4\n",
      "Area of Square is = 16.0\n",
      "**********\n",
      "...Triangle...\n",
      "Base value :52\n",
      "Height value :14\n",
      "Area of Triangle is = 364.0\n",
      "**********\n",
      "...Rectangle...\n",
      "Length value :12\n",
      "Width value :89\n",
      "Area of Rectangle is = 1068.0\n",
      "**********\n",
      "...Circle...\n",
      "Radius value :3.4\n",
      "Area of circle = 36.2984\n"
     ]
    }
   ],
   "source": [
    "sq = print(\"...Square...\")\n",
    "s = float(input(\"Side value :\"))\n",
    "print(\"Area of Square is =\",s*s)\n",
    "\n",
    "print(\"**********\")\n",
    "print(\"...Triangle...\")\n",
    "b = float(input(\"Base value :\"))\n",
    "h = float(input(\"Height value :\"))\n",
    "print(\"Area of Triangle is =\",0.5*b*h)\n",
    "\n",
    "print(\"**********\")\n",
    "\n",
    "print(\"...Rectangle...\")\n",
    "l = float(input(\"Length value :\"))\n",
    "w = float(input(\"Width value :\"))\n",
    "print(\"Area of Rectangle is =\",l*w)\n",
    "\n",
    "print(\"**********\")\n",
    "print(\"...Circle...\")\n",
    "pi = 3.14\n",
    "r = float(input(\"Radius value :\"))\n",
    "print(\"Area of circle =\",pi*r*r)"
   ]
  },
  {
   "cell_type": "markdown",
   "metadata": {},
   "source": [
    "### String "
   ]
  },
  {
   "cell_type": "code",
   "execution_count": 5,
   "metadata": {},
   "outputs": [],
   "source": [
    "a = \"Hi ! This is Renu...\""
   ]
  },
  {
   "cell_type": "code",
   "execution_count": 6,
   "metadata": {},
   "outputs": [
    {
     "name": "stdout",
     "output_type": "stream",
     "text": [
      "<class 'str'>\n",
      "20\n"
     ]
    }
   ],
   "source": [
    "print(type(a))\n",
    "print(len(a))"
   ]
  },
  {
   "cell_type": "code",
   "execution_count": 7,
   "metadata": {},
   "outputs": [
    {
     "name": "stdout",
     "output_type": "stream",
     "text": [
      "Hi !\n"
     ]
    }
   ],
   "source": [
    "# string slicing\n",
    "a1 = print(a[0:4])"
   ]
  },
  {
   "cell_type": "code",
   "execution_count": 8,
   "metadata": {},
   "outputs": [
    {
     "name": "stdout",
     "output_type": "stream",
     "text": [
      "This is Renu...\n"
     ]
    }
   ],
   "source": [
    "a2 = print(a[5:])"
   ]
  },
  {
   "cell_type": "code",
   "execution_count": 9,
   "metadata": {},
   "outputs": [
    {
     "name": "stdout",
     "output_type": "stream",
     "text": [
      "First name :Renu\n",
      "Last name :Kalyani\n",
      "Renu Kalyani\n"
     ]
    }
   ],
   "source": [
    "name = input(\"First name :\")\n",
    "last = input(\"Last name :\")\n",
    "print(name,last)"
   ]
  },
  {
   "cell_type": "code",
   "execution_count": 10,
   "metadata": {},
   "outputs": [
    {
     "name": "stdout",
     "output_type": "stream",
     "text": [
      "Welcome here !!\n",
      "***********************\n",
      "Reversed String : !! ereh emocleW\n"
     ]
    }
   ],
   "source": [
    "# string reverse\n",
    "\n",
    "str1 = \"Welcome here !!\"\n",
    "print(str1)\n",
    "\n",
    "print(\"***********************\")\n",
    "\n",
    "print(\"Reversed String :\",str1[::-1])"
   ]
  },
  {
   "cell_type": "code",
   "execution_count": 11,
   "metadata": {},
   "outputs": [
    {
     "name": "stdout",
     "output_type": "stream",
     "text": [
      "Enter string = Hii \n",
      "Reversed :  iiH\n"
     ]
    }
   ],
   "source": [
    "n = input(\"Enter string = \")\n",
    "print(\"Reversed :\",n[::-1])"
   ]
  },
  {
   "cell_type": "code",
   "execution_count": null,
   "metadata": {},
   "outputs": [],
   "source": []
  }
 ],
 "metadata": {
  "kernelspec": {
   "display_name": "Python 3",
   "language": "python",
   "name": "python3"
  },
  "language_info": {
   "codemirror_mode": {
    "name": "ipython",
    "version": 3
   },
   "file_extension": ".py",
   "mimetype": "text/x-python",
   "name": "python",
   "nbconvert_exporter": "python",
   "pygments_lexer": "ipython3",
   "version": "3.7.11"
  }
 },
 "nbformat": 4,
 "nbformat_minor": 4
}
