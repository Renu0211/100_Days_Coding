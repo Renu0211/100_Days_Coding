{
 "cells": [
  {
   "cell_type": "markdown",
   "metadata": {},
   "source": [
    "# NumPy"
   ]
  },
  {
   "cell_type": "markdown",
   "metadata": {},
   "source": [
    "### (1) Checking dimension of array"
   ]
  },
  {
   "cell_type": "code",
   "execution_count": 1,
   "metadata": {},
   "outputs": [],
   "source": [
    "import numpy as np"
   ]
  },
  {
   "cell_type": "code",
   "execution_count": 2,
   "metadata": {},
   "outputs": [
    {
     "name": "stdout",
     "output_type": "stream",
     "text": [
      "Dimension is : 0\n"
     ]
    }
   ],
   "source": [
    "a = np.array(1)\n",
    "print(\"Dimension is :\",a.ndim)"
   ]
  },
  {
   "cell_type": "code",
   "execution_count": 3,
   "metadata": {},
   "outputs": [
    {
     "name": "stdout",
     "output_type": "stream",
     "text": [
      "Dimension is : 1\n"
     ]
    }
   ],
   "source": [
    "a1 = np.array([1,2,3,4,5])\n",
    "print(\"Dimension is :\",a1.ndim)"
   ]
  },
  {
   "cell_type": "code",
   "execution_count": 4,
   "metadata": {},
   "outputs": [
    {
     "name": "stdout",
     "output_type": "stream",
     "text": [
      "Dimension is : 2\n",
      "**********************\n",
      "[[1 2 3 4 5]\n",
      " [6 7 8 9 0]]\n",
      "Dimension is : 2\n"
     ]
    }
   ],
   "source": [
    "a2 = np.array([[1,2,3,4,5]])\n",
    "print(\"Dimension is :\",a2.ndim)\n",
    "\n",
    "print(\"**********************\")\n",
    "\n",
    "a22 = np.array([[1,2,3,4,5],[6,7,8,9,0]])\n",
    "print(a22)\n",
    "print(\"Dimension is :\",a22.ndim)"
   ]
  },
  {
   "cell_type": "code",
   "execution_count": 5,
   "metadata": {},
   "outputs": [
    {
     "name": "stdout",
     "output_type": "stream",
     "text": [
      "Dimension is : 3\n",
      "**********************\n",
      "[[[ 1  2  3]\n",
      "  [ 4  5  6]]\n",
      "\n",
      " [[11 12 13]\n",
      "  [41 51 61]]]\n",
      "Dimension is : 3\n"
     ]
    }
   ],
   "source": [
    "a3 = np.array([[[1,2,3,4,5]]])\n",
    "print(\"Dimension is :\",a3.ndim)\n",
    "\n",
    "print(\"**********************\")\n",
    "\n",
    "a33 = np.array([[[1,2,3],[4,5,6]],[[11,12,13],[41,51,61]]])\n",
    "print(a33)\n",
    "print(\"Dimension is :\",a33.ndim)"
   ]
  },
  {
   "cell_type": "markdown",
   "metadata": {},
   "source": [
    "### (2) Concatenation"
   ]
  },
  {
   "cell_type": "code",
   "execution_count": 6,
   "metadata": {},
   "outputs": [
    {
     "name": "stdout",
     "output_type": "stream",
     "text": [
      "Addition is : 12\n"
     ]
    }
   ],
   "source": [
    "arr = np.array([1,2,3,4,5,6,7,8,9,10])\n",
    "print(\"Addition is :\",arr[3]+arr[7])"
   ]
  },
  {
   "cell_type": "code",
   "execution_count": 7,
   "metadata": {},
   "outputs": [
    {
     "name": "stdout",
     "output_type": "stream",
     "text": [
      "Index 1 =3\n",
      "Index 2 =8\n",
      "Addition is : 13\n",
      "Substraction is : -5\n",
      "Multiplication is : 36\n",
      "Division is : 0.4444444444444444\n"
     ]
    }
   ],
   "source": [
    "arr1 = np.array([1,2,3,4,5,6,7,8,9,10])\n",
    "\n",
    "p1 = int(input(\"Index 1 =\"))\n",
    "p2 = int(input(\"Index 2 =\"))\n",
    "\n",
    "print(\"Addition is :\",arr1[p1]+arr1[p2])\n",
    "print(\"Substraction is :\",arr1[p1]-arr1[p2])\n",
    "print(\"Multiplication is :\",arr1[p1]*arr1[p2])\n",
    "print(\"Division is :\",arr1[p1]/arr1[p2])"
   ]
  },
  {
   "cell_type": "markdown",
   "metadata": {},
   "source": [
    "### (3) Shape"
   ]
  },
  {
   "cell_type": "code",
   "execution_count": 8,
   "metadata": {},
   "outputs": [
    {
     "data": {
      "text/plain": [
       "array([ 1,  2,  3,  4,  5,  6,  7,  8,  9, 10])"
      ]
     },
     "execution_count": 8,
     "metadata": {},
     "output_type": "execute_result"
    }
   ],
   "source": [
    "array = np.array([1,2,3,4,5,6,7,8,9,10])\n",
    "array"
   ]
  },
  {
   "cell_type": "code",
   "execution_count": 9,
   "metadata": {},
   "outputs": [
    {
     "data": {
      "text/plain": [
       "(10,)"
      ]
     },
     "execution_count": 9,
     "metadata": {},
     "output_type": "execute_result"
    }
   ],
   "source": [
    "array.shape"
   ]
  },
  {
   "cell_type": "code",
   "execution_count": 10,
   "metadata": {},
   "outputs": [
    {
     "data": {
      "text/plain": [
       "array([[1, 2, 3, 4, 5],\n",
       "       [6, 7, 8, 9, 0]])"
      ]
     },
     "execution_count": 10,
     "metadata": {},
     "output_type": "execute_result"
    }
   ],
   "source": [
    "ar1 = np.array([[1,2,3,4,5],[6,7,8,9,0]])\n",
    "ar1"
   ]
  },
  {
   "cell_type": "code",
   "execution_count": 11,
   "metadata": {},
   "outputs": [
    {
     "data": {
      "text/plain": [
       "(2, 5)"
      ]
     },
     "execution_count": 11,
     "metadata": {},
     "output_type": "execute_result"
    }
   ],
   "source": [
    "ar1.shape"
   ]
  },
  {
   "cell_type": "code",
   "execution_count": 12,
   "metadata": {},
   "outputs": [
    {
     "data": {
      "text/plain": [
       "array([[[ 1,  2,  3],\n",
       "        [ 4,  5,  6]],\n",
       "\n",
       "       [[ 7,  8,  9],\n",
       "        [10, 11, 12]]])"
      ]
     },
     "execution_count": 12,
     "metadata": {},
     "output_type": "execute_result"
    }
   ],
   "source": [
    "ar2 = np.array([[[1,2,3],[4,5,6]],[[7,8,9],[10,11,12]]])\n",
    "ar2"
   ]
  },
  {
   "cell_type": "code",
   "execution_count": 13,
   "metadata": {},
   "outputs": [
    {
     "data": {
      "text/plain": [
       "(2, 2, 3)"
      ]
     },
     "execution_count": 13,
     "metadata": {},
     "output_type": "execute_result"
    }
   ],
   "source": [
    "ar2.shape"
   ]
  },
  {
   "cell_type": "code",
   "execution_count": 14,
   "metadata": {},
   "outputs": [
    {
     "data": {
      "text/plain": [
       "array([[[[11, 12, 13],\n",
       "         [14, 15, 16]],\n",
       "\n",
       "        [[17, 18, 19],\n",
       "         [20, 21, 22]]],\n",
       "\n",
       "\n",
       "       [[[11, 12, 13],\n",
       "         [14, 15, 16]],\n",
       "\n",
       "        [[17, 18, 19],\n",
       "         [20, 21, 22]]]])"
      ]
     },
     "execution_count": 14,
     "metadata": {},
     "output_type": "execute_result"
    }
   ],
   "source": [
    "ar3 = np.array([[[[11,12,13],[14,15,16]],[[17,18,19],[20,21,22]]],[[[11,12,13],[14,15,16]],[[17,18,19],[20,21,22]]]])\n",
    "ar3"
   ]
  },
  {
   "cell_type": "code",
   "execution_count": 15,
   "metadata": {},
   "outputs": [
    {
     "data": {
      "text/plain": [
       "(2, 2, 2, 3)"
      ]
     },
     "execution_count": 15,
     "metadata": {},
     "output_type": "execute_result"
    }
   ],
   "source": [
    "ar3.shape"
   ]
  },
  {
   "cell_type": "markdown",
   "metadata": {},
   "source": [
    "### (4) Reshape"
   ]
  },
  {
   "cell_type": "markdown",
   "metadata": {},
   "source": [
    "### 1D Array"
   ]
  },
  {
   "cell_type": "code",
   "execution_count": 16,
   "metadata": {},
   "outputs": [
    {
     "data": {
      "text/plain": [
       "array([[21, 22, 23, 24, 25, 26, 27, 28, 29, 30]])"
      ]
     },
     "execution_count": 16,
     "metadata": {},
     "output_type": "execute_result"
    }
   ],
   "source": [
    "Arr = np.array([21,22,23,24,25,26,27,28,29,30])\n",
    "Arr.reshape(1,10)"
   ]
  },
  {
   "cell_type": "code",
   "execution_count": 17,
   "metadata": {},
   "outputs": [
    {
     "data": {
      "text/plain": [
       "array([[21],\n",
       "       [22],\n",
       "       [23],\n",
       "       [24],\n",
       "       [25],\n",
       "       [26],\n",
       "       [27],\n",
       "       [28],\n",
       "       [29],\n",
       "       [30]])"
      ]
     },
     "execution_count": 17,
     "metadata": {},
     "output_type": "execute_result"
    }
   ],
   "source": [
    "Arr.reshape(10,1)"
   ]
  },
  {
   "cell_type": "code",
   "execution_count": 18,
   "metadata": {},
   "outputs": [
    {
     "data": {
      "text/plain": [
       "array([[21, 22, 23, 24, 25],\n",
       "       [26, 27, 28, 29, 30]])"
      ]
     },
     "execution_count": 18,
     "metadata": {},
     "output_type": "execute_result"
    }
   ],
   "source": [
    "Arr.reshape(2,5)"
   ]
  },
  {
   "cell_type": "code",
   "execution_count": 19,
   "metadata": {},
   "outputs": [
    {
     "data": {
      "text/plain": [
       "array([[21, 22],\n",
       "       [23, 24],\n",
       "       [25, 26],\n",
       "       [27, 28],\n",
       "       [29, 30]])"
      ]
     },
     "execution_count": 19,
     "metadata": {},
     "output_type": "execute_result"
    }
   ],
   "source": [
    "Arr.reshape(5,2)"
   ]
  },
  {
   "cell_type": "code",
   "execution_count": 20,
   "metadata": {},
   "outputs": [
    {
     "name": "stdout",
     "output_type": "stream",
     "text": [
      "[ 1  2  3  4  5  6  7  8  9 10 11 12 13 14 15 16 17 18 19 20]\n",
      "Length of array :: 20\n",
      "**************************\n",
      "Reformation of Array :\n",
      "Rows =5\n",
      "Columns =4\n",
      "**************************\n",
      "[[ 1  2  3  4]\n",
      " [ 5  6  7  8]\n",
      " [ 9 10 11 12]\n",
      " [13 14 15 16]\n",
      " [17 18 19 20]]\n"
     ]
    }
   ],
   "source": [
    "Ar1 = np.array([1,2,3,4,5,6,7,8,9,10,11,12,13,14,15,16,17,18,19,20])\n",
    "print(Ar1)\n",
    "print(\"Length of array ::\",len(Ar1))\n",
    "\n",
    "print(\"**************************\")\n",
    "print(\"Reformation of Array :\")\n",
    "r = int(input(\"Rows =\"))\n",
    "c = int(input(\"Columns =\"))\n",
    "\n",
    "print(\"**************************\")\n",
    "print(Ar1.reshape(r,c))"
   ]
  },
  {
   "cell_type": "markdown",
   "metadata": {},
   "source": [
    "### 2D Array"
   ]
  },
  {
   "cell_type": "code",
   "execution_count": 21,
   "metadata": {},
   "outputs": [
    {
     "name": "stdout",
     "output_type": "stream",
     "text": [
      "[[1 2 3 4 5]\n",
      " [6 7 8 9 0]]\n",
      "Shape of array : (2, 5)\n",
      "Length of array :: 2\n",
      "**************************\n",
      "Reformation of Array :\n",
      "Rows =5\n",
      "Columns =2\n",
      "**************************\n",
      "[[1 2]\n",
      " [3 4]\n",
      " [5 6]\n",
      " [7 8]\n",
      " [9 0]]\n"
     ]
    }
   ],
   "source": [
    "Ar2 = np.array([[1,2,3,4,5],[6,7,8,9,0]])\n",
    "print(Ar2)\n",
    "print(\"Shape of array :\",Ar2.shape)\n",
    "print(\"Length of array ::\",len(Ar2))\n",
    "\n",
    "print(\"**************************\")\n",
    "print(\"Reformation of Array :\")\n",
    "r = int(input(\"Rows =\"))\n",
    "c = int(input(\"Columns =\"))\n",
    "\n",
    "print(\"**************************\")\n",
    "print(Ar2.reshape(r,c))"
   ]
  },
  {
   "cell_type": "markdown",
   "metadata": {},
   "source": [
    "### 3D Array"
   ]
  },
  {
   "cell_type": "code",
   "execution_count": 22,
   "metadata": {},
   "outputs": [
    {
     "name": "stdout",
     "output_type": "stream",
     "text": [
      "[[[1 2 3 4 5]\n",
      "  [6 7 8 9 0]]\n",
      "\n",
      " [[1 2 3 4 5]\n",
      "  [6 7 8 9 0]]]\n",
      "Shape of array : (2, 2, 5)\n",
      "Length of array :: 2\n",
      "**************************\n",
      "Reformation of Array :\n",
      "Rows =2\n",
      "Columns =10\n",
      "**************************\n",
      "[[1 2 3 4 5 6 7 8 9 0]\n",
      " [1 2 3 4 5 6 7 8 9 0]]\n"
     ]
    }
   ],
   "source": [
    "Ar3 = np.array([[[1,2,3,4,5],[6,7,8,9,0]],[[1,2,3,4,5],[6,7,8,9,0]]])\n",
    "print(Ar3)\n",
    "print(\"Shape of array :\",Ar3.shape)\n",
    "print(\"Length of array ::\",len(Ar3))\n",
    "\n",
    "print(\"**************************\")\n",
    "print(\"Reformation of Array :\")\n",
    "r = int(input(\"Rows =\"))\n",
    "c = int(input(\"Columns =\"))\n",
    "\n",
    "print(\"**************************\")\n",
    "print(Ar3.reshape(r,c))"
   ]
  },
  {
   "cell_type": "code",
   "execution_count": null,
   "metadata": {},
   "outputs": [],
   "source": []
  }
 ],
 "metadata": {
  "kernelspec": {
   "display_name": "Python 3",
   "language": "python",
   "name": "python3"
  },
  "language_info": {
   "codemirror_mode": {
    "name": "ipython",
    "version": 3
   },
   "file_extension": ".py",
   "mimetype": "text/x-python",
   "name": "python",
   "nbconvert_exporter": "python",
   "pygments_lexer": "ipython3",
   "version": "3.7.11"
  }
 },
 "nbformat": 4,
 "nbformat_minor": 4
}
